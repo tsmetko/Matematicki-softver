{
 "cells": [
  {
   "cell_type": "markdown",
   "metadata": {},
   "source": [
    "## Stablo odlučivanja u strojnom učenju\n",
    "\n",
    "Stabla odlučivanja koriste se u analizi odlučivanja kako bi se vizualno predstavio način donošenja odluka od strane ekperata. Takva stabla odlučivanja opisuju način kako ljudski ekperti dolaze do odluke kod nekog problema odlučivanja.\n",
    "Druga primjena stabla odlučivanja, koju ćemo ovdje obraditi, je njihova upotreba kao prediktivni modeli u strojnom učenju.\n",
    "\n",
    "Stablo odlučivanja kreira se na temelju poznatih podataka *training set*, te se kasnije koristi kako bi se predvidjeli, odnosno klasificirali novi podaci."
   ]
  },
  {
   "cell_type": "markdown",
   "metadata": {},
   "source": [
    "#### Primjer korišteja stabla odlučivanja na zahtjevima za kreditima"
   ]
  },
  {
   "cell_type": "code",
   "execution_count": 1,
   "metadata": {},
   "outputs": [],
   "source": [
    "import pandas as pd\n",
    "import numpy as np\n",
    "import matplotlib.pyplot as plt\n",
    "import seaborn as sb\n",
    "%matplotlib inline\n",
    "\n",
    "df = pd.read_csv('kredit.csv', index_col=False)\n",
    "df_novi = pd.read_csv('zahtjev.csv', index_col=False)\n",
    "df_novi.replace(np.nan, '', regex=True, inplace=True)"
   ]
  },
  {
   "cell_type": "markdown",
   "metadata": {},
   "source": [
    "Pretpostavimo da smo promatranjem korisnika za zahtjev kredita došli do sljedećih podataka:"
   ]
  },
  {
   "cell_type": "code",
   "execution_count": 2,
   "metadata": {},
   "outputs": [
    {
     "data": {
      "text/html": [
       "<div>\n",
       "<style scoped>\n",
       "    .dataframe tbody tr th:only-of-type {\n",
       "        vertical-align: middle;\n",
       "    }\n",
       "\n",
       "    .dataframe tbody tr th {\n",
       "        vertical-align: top;\n",
       "    }\n",
       "\n",
       "    .dataframe thead th {\n",
       "        text-align: right;\n",
       "    }\n",
       "</style>\n",
       "<table border=\"1\" class=\"dataframe\">\n",
       "  <thead>\n",
       "    <tr style=\"text-align: right;\">\n",
       "      <th></th>\n",
       "      <th>dob</th>\n",
       "      <th>ima_posao</th>\n",
       "      <th>ima_kucu</th>\n",
       "      <th>kreditni_status</th>\n",
       "      <th>kredit_odobren</th>\n",
       "    </tr>\n",
       "  </thead>\n",
       "  <tbody>\n",
       "    <tr>\n",
       "      <th>0</th>\n",
       "      <td>mlad</td>\n",
       "      <td>ne</td>\n",
       "      <td>ne</td>\n",
       "      <td>loš</td>\n",
       "      <td>ne</td>\n",
       "    </tr>\n",
       "    <tr>\n",
       "      <th>1</th>\n",
       "      <td>mlad</td>\n",
       "      <td>ne</td>\n",
       "      <td>ne</td>\n",
       "      <td>dobar</td>\n",
       "      <td>ne</td>\n",
       "    </tr>\n",
       "    <tr>\n",
       "      <th>2</th>\n",
       "      <td>mlad</td>\n",
       "      <td>da</td>\n",
       "      <td>ne</td>\n",
       "      <td>dobar</td>\n",
       "      <td>da</td>\n",
       "    </tr>\n",
       "    <tr>\n",
       "      <th>3</th>\n",
       "      <td>mlad</td>\n",
       "      <td>da</td>\n",
       "      <td>da</td>\n",
       "      <td>loš</td>\n",
       "      <td>da</td>\n",
       "    </tr>\n",
       "    <tr>\n",
       "      <th>4</th>\n",
       "      <td>mlad</td>\n",
       "      <td>ne</td>\n",
       "      <td>ne</td>\n",
       "      <td>loš</td>\n",
       "      <td>ne</td>\n",
       "    </tr>\n",
       "    <tr>\n",
       "      <th>5</th>\n",
       "      <td>srednje_g</td>\n",
       "      <td>ne</td>\n",
       "      <td>ne</td>\n",
       "      <td>loš</td>\n",
       "      <td>ne</td>\n",
       "    </tr>\n",
       "    <tr>\n",
       "      <th>6</th>\n",
       "      <td>srednje_g</td>\n",
       "      <td>ne</td>\n",
       "      <td>ne</td>\n",
       "      <td>dobar</td>\n",
       "      <td>ne</td>\n",
       "    </tr>\n",
       "    <tr>\n",
       "      <th>7</th>\n",
       "      <td>srednje_g</td>\n",
       "      <td>da</td>\n",
       "      <td>da</td>\n",
       "      <td>dobar</td>\n",
       "      <td>da</td>\n",
       "    </tr>\n",
       "    <tr>\n",
       "      <th>8</th>\n",
       "      <td>srednje_g</td>\n",
       "      <td>ne</td>\n",
       "      <td>da</td>\n",
       "      <td>izvrstan</td>\n",
       "      <td>da</td>\n",
       "    </tr>\n",
       "    <tr>\n",
       "      <th>9</th>\n",
       "      <td>srednje_g</td>\n",
       "      <td>ne</td>\n",
       "      <td>da</td>\n",
       "      <td>izvrstan</td>\n",
       "      <td>da</td>\n",
       "    </tr>\n",
       "    <tr>\n",
       "      <th>10</th>\n",
       "      <td>stariji</td>\n",
       "      <td>ne</td>\n",
       "      <td>da</td>\n",
       "      <td>izvrstan</td>\n",
       "      <td>da</td>\n",
       "    </tr>\n",
       "    <tr>\n",
       "      <th>11</th>\n",
       "      <td>stariji</td>\n",
       "      <td>ne</td>\n",
       "      <td>da</td>\n",
       "      <td>dobar</td>\n",
       "      <td>da</td>\n",
       "    </tr>\n",
       "    <tr>\n",
       "      <th>12</th>\n",
       "      <td>stariji</td>\n",
       "      <td>da</td>\n",
       "      <td>ne</td>\n",
       "      <td>loš</td>\n",
       "      <td>da</td>\n",
       "    </tr>\n",
       "    <tr>\n",
       "      <th>13</th>\n",
       "      <td>stariji</td>\n",
       "      <td>da</td>\n",
       "      <td>ne</td>\n",
       "      <td>izvrstan</td>\n",
       "      <td>da</td>\n",
       "    </tr>\n",
       "    <tr>\n",
       "      <th>14</th>\n",
       "      <td>stariji</td>\n",
       "      <td>ne</td>\n",
       "      <td>ne</td>\n",
       "      <td>loš</td>\n",
       "      <td>ne</td>\n",
       "    </tr>\n",
       "  </tbody>\n",
       "</table>\n",
       "</div>"
      ],
      "text/plain": [
       "          dob ima_posao ima_kucu kreditni_status kredit_odobren\n",
       "0        mlad        ne       ne             loš             ne\n",
       "1        mlad        ne       ne           dobar             ne\n",
       "2        mlad        da       ne           dobar             da\n",
       "3        mlad        da       da             loš             da\n",
       "4        mlad        ne       ne             loš             ne\n",
       "5   srednje_g        ne       ne             loš             ne\n",
       "6   srednje_g        ne       ne           dobar             ne\n",
       "7   srednje_g        da       da           dobar             da\n",
       "8   srednje_g        ne       da        izvrstan             da\n",
       "9   srednje_g        ne       da        izvrstan             da\n",
       "10    stariji        ne       da        izvrstan             da\n",
       "11    stariji        ne       da           dobar             da\n",
       "12    stariji        da       ne             loš             da\n",
       "13    stariji        da       ne        izvrstan             da\n",
       "14    stariji        ne       ne             loš             ne"
      ]
     },
     "execution_count": 2,
     "metadata": {},
     "output_type": "execute_result"
    }
   ],
   "source": [
    "df"
   ]
  },
  {
   "cell_type": "markdown",
   "metadata": {},
   "source": [
    "Te smo kreirali sljedeće stablo odlučivanja:\n",
    "\n",
    "<img src=\"files/stablo_krediti.png\" width=400px>\n",
    "Čvorovi stabla koji nisu listovi predstavljaju varijable, grane ili bridovi stabla predavljaju vrijednosti varijabli, dok  listovi stabla predtavljaju konačnu odluku ili klasu.\n",
    "\n",
    "\n",
    "Odlučujemo pomoću stabla odlučivanja o novom zahtjevu za kredit, koji ima sljedeće informacije o podnositelju:"
   ]
  },
  {
   "cell_type": "code",
   "execution_count": 3,
   "metadata": {},
   "outputs": [
    {
     "data": {
      "text/html": [
       "<div>\n",
       "<style scoped>\n",
       "    .dataframe tbody tr th:only-of-type {\n",
       "        vertical-align: middle;\n",
       "    }\n",
       "\n",
       "    .dataframe tbody tr th {\n",
       "        vertical-align: top;\n",
       "    }\n",
       "\n",
       "    .dataframe thead th {\n",
       "        text-align: right;\n",
       "    }\n",
       "</style>\n",
       "<table border=\"1\" class=\"dataframe\">\n",
       "  <thead>\n",
       "    <tr style=\"text-align: right;\">\n",
       "      <th></th>\n",
       "      <th>dob</th>\n",
       "      <th>ima_posao</th>\n",
       "      <th>ima_kucu</th>\n",
       "      <th>kreditni_status</th>\n",
       "      <th>kredit_odobren</th>\n",
       "    </tr>\n",
       "  </thead>\n",
       "  <tbody>\n",
       "    <tr>\n",
       "      <th>0</th>\n",
       "      <td>mlad</td>\n",
       "      <td>ne</td>\n",
       "      <td>ne</td>\n",
       "      <td>loš</td>\n",
       "      <td></td>\n",
       "    </tr>\n",
       "  </tbody>\n",
       "</table>\n",
       "</div>"
      ],
      "text/plain": [
       "    dob ima_posao ima_kucu kreditni_status kredit_odobren\n",
       "0  mlad        ne       ne             loš               "
      ]
     },
     "execution_count": 3,
     "metadata": {},
     "output_type": "execute_result"
    }
   ],
   "source": [
    "df_novi"
   ]
  },
  {
   "cell_type": "markdown",
   "metadata": {},
   "source": [
    "<img src=\"files/stablo_krediti_odluka.png\" width=400px>\n",
    "Kako je korisnikova dob *mlad* i nema posao, kredit nije odobren. \n"
   ]
  },
  {
   "cell_type": "markdown",
   "metadata": {},
   "source": [
    "### Određivanje stabla odlučivanja\n",
    "\n",
    "Stablo odlučivanja nije jedinstveno te se postavlja pitanje kako odrediti stablo odlučivanja, tj. koje stablo je \"najbolje\"?\n",
    "Nalaženje bajboljeg stabla je NP-teško, i svi današnji algoritmi konstrukcije stabla su heuristički. \n",
    "\n",
    "##### Opis osnovnog algoritma \n",
    "* pretopstavi da su svi atributi diskretni (inače radimo diskretizaciju nad podacima)\n",
    "* stablo se konstruira od vrha prema dnu u rekurzivnom postupku\n",
    "* na početku, svi primjeri za treniranje su u korijenu\n",
    "* primjeri se particioniraju rekurzivno, bazirano na odabranim atributima\n",
    "* atributi se selektiraju na osnovi funkcije \"nečistoće\"\n",
    "Uvijeti za kraj particioniranja:\n",
    "* svi primjeri za dani čvor pripadaju istoj klasi \n",
    "* nema više atributa za daljnje particioniranje - većinska klasa je list\n",
    "* nema više preostalih primjera \n",
    "\n",
    "##### Diskretizaciji\n",
    "Neprekidni atributi se u svakom čvoru rastavi na dva ili više intervala. Za nalaženje praga koristi se dobitak ili omjer dobitka na informaciji slično kao i kod određivanja atributa za particioniranje. Alternativno promjena ide samo između vrijednosti atributa kod kojih dolazi do promjene klase.\n",
    "\n",
    "##### Izbor atributa za particioniranje\n",
    "Različiti algoritmi kod konstruiranje stabla koriste različite metrike za određivanje najboljeg atrubuta za granenje. Mi ćemo ovdje spomenuti dvije najčešće korištene a to su:\n",
    "\n",
    "###### *Gini impurity* (Ginijeva nečistoča)\n",
    "Da bi izračunali *Gini impurity* skupa od $J$ klasa, gdje je $i \\in \\{1,2,...,J\\}$ i $p_i$ broj pojavljivanja elemenata klase $i$ u skupu, koristimo formulu:\n",
    "$$ I_G(p)=1-\\sum_{i=1}^{J}p_{i} ^j $$\n",
    "\n",
    "###### *Information gain* (Dobitak informacija)\n",
    "Dan je skup primjera $D$. Prvo izračunamo njegovu entropiju:\n",
    "$$ entropija(D)=-\\sum_{j=1}^{|C|}Pr(c_{j})log_{2}(Pr(c_{j})) $$\n",
    "\n",
    "Ako atribut $A_i$ s $v$ vrijednosti, uzmemo kao korijen trenutnog stabla, to particionira skup $D$ u $v$ podskupova $D_1, D_2, ..,D_v$ prema vrijednostima atributa $A_i$\n",
    "\n",
    "Očekivana entropija, ako je $A_i$ uzet kao trenutni korijen, je:\n",
    "$$entropija_{A_i}(D) = \\sum_{j=1}^v \\frac{|D_j|}{|D|} * enropija(D_j) $$\n",
    "To je prosječna entropija preko svih skupova $D_j$.\n",
    "\n",
    "I na kraju *information gain* dobiven odabirom baš tog atributa $A_i$ za grananje ili particiju je:\n",
    "\n",
    "$$dobitak(D, A_i) = entropija(D) - entropija_{A_i}(D)$$\n"
   ]
  },
  {
   "cell_type": "markdown",
   "metadata": {},
   "source": [
    "**Primjer - Shannonova entropija, bacanje simetričnog novčića** <br>\n",
    "Booleova varijabla, vjerojatnost za $true$ je $p$"
   ]
  },
  {
   "cell_type": "code",
   "execution_count": 4,
   "metadata": {},
   "outputs": [
    {
     "name": "stderr",
     "output_type": "stream",
     "text": [
      "C:\\Users\\Tomislav\\Anaconda3\\envs\\ms\\lib\\site-packages\\ipykernel_launcher.py:3: RuntimeWarning: divide by zero encountered in log2\n",
      "  This is separate from the ipykernel package so we can avoid doing imports until\n",
      "C:\\Users\\Tomislav\\Anaconda3\\envs\\ms\\lib\\site-packages\\ipykernel_launcher.py:3: RuntimeWarning: invalid value encountered in multiply\n",
      "  This is separate from the ipykernel package so we can avoid doing imports until\n"
     ]
    },
    {
     "data": {
      "image/png": "[encoded data removed]",
      "text/plain": [
       "<Figure size 432x288 with 1 Axes>"
      ]
     },
     "metadata": {},
     "output_type": "display_data"
    }
   ],
   "source": [
    "fig, axes = plt.subplots()\n",
    "p = np.linspace(0,1,100)\n",
    "axes.plot(p, -p*np.log2(p) - (1-p)*np.log2(1-p));\n",
    "plt.ylim([0, 1]);\n",
    "plt.xlim([0, 1]);"
   ]
  },
  {
   "cell_type": "markdown",
   "metadata": {},
   "source": [
    "### Primjeri"
   ]
  },
  {
   "cell_type": "code",
   "execution_count": 5,
   "metadata": {},
   "outputs": [],
   "source": [
    "def partition(daFrame, column):\n",
    "    \"\"\"Vraća particiju skupa s obzirom na vrijednosti column parametra. Povratna vrijednost je lista DataFrame objekata\"\"\"\n",
    "    ret = [];\n",
    "    for x in daFrame[column].unique():\n",
    "        ret.append(pd.DataFrame(daFrame.loc[daFrame[column] == x]))\n",
    "    return ret;"
   ]
  },
  {
   "cell_type": "code",
   "execution_count": 6,
   "metadata": {},
   "outputs": [],
   "source": [
    "def entropy(s):\n",
    "    \"\"\"Računa entropiju skupa s\"\"\"\n",
    "    res = 0\n",
    "    val, counts = np.unique(s, return_counts=True)\n",
    "    freqs = counts.astype('float')/len(s)\n",
    "    for p in freqs:\n",
    "        if p != 0.0:\n",
    "            res -= p * np.log2(p)\n",
    "    return res"
   ]
  },
  {
   "cell_type": "code",
   "execution_count": 7,
   "metadata": {},
   "outputs": [],
   "source": [
    "def attribute_entropy(skup, attribute_split,attribute_target):\n",
    "    \"\"\"Računa entropiju ako je attribute_split uzet kao korijen\"\"\"\n",
    "    suma = 0;\n",
    "    part =partition(skup, attribute_split)\n",
    "    row_count = skup[attribute_target].count()    \n",
    "    for x in part:\n",
    "        suma +=  (len(list(x[attribute_split]))/row_count)* entropy(list(x[attribute_target]))\n",
    "    return suma"
   ]
  },
  {
   "cell_type": "code",
   "execution_count": 8,
   "metadata": {},
   "outputs": [],
   "source": [
    "def information_gain(skup, attribute_split,attribute_target ):\n",
    "    \"\"\"Računa dobitak na informaciji ako je attribute_split uzet kao korijen\"\"\"\n",
    "    return entropy(list(skup[attribute_target])) - attribute_entropy(skup, attribute_split,attribute_target) "
   ]
  },
  {
   "cell_type": "code",
   "execution_count": 9,
   "metadata": {},
   "outputs": [],
   "source": [
    "df_work = df.copy()\n",
    "df_orig = df.copy()"
   ]
  },
  {
   "cell_type": "code",
   "execution_count": 10,
   "metadata": {},
   "outputs": [],
   "source": [
    "df[\"dob\"] = df[\"dob\"].map({'mlad': 1, 'srednje_g':2, 'stariji':3}).astype(int)\n",
    "df[\"ima_posao\"] = df[\"ima_posao\"].map({'ne': 0, 'da':1}).astype(int)\n",
    "df[\"ima_kucu\"] = df[\"ima_kucu\"].map({'ne': 0, 'da':1 }).astype(int)\n",
    "df[\"kreditni_status\"] = df[\"kreditni_status\"].map({'loš': 1, 'dobar':2, 'izvrstan':3}).astype(int)\n",
    "df[\"kredit_odobren\"] = df[\"kredit_odobren\"].map({'ne': 0, 'da':1}).astype(int)"
   ]
  },
  {
   "cell_type": "code",
   "execution_count": 11,
   "metadata": {},
   "outputs": [
    {
     "data": {
      "text/plain": [
       "<matplotlib.axes._subplots.AxesSubplot at 0x25afcd5e358>"
      ]
     },
     "execution_count": 11,
     "metadata": {},
     "output_type": "execute_result"
    },
    {
     "data": {
      "image/png": "[encoded data removed]",
      "text/plain": [
       "<Figure size 720x720 with 2 Axes>"
      ]
     },
     "metadata": {},
     "output_type": "display_data"
    }
   ],
   "source": [
    "colormap = plt.cm.viridis\n",
    "plt.figure(figsize=(10,10))\n",
    "plt.title('Korelacija među atributima', y=1.05, size=15)\n",
    "sb.heatmap(df.astype(float).corr(),linewidths=0.1,vmax=1.0, square=True, cmap=colormap, linecolor='white', annot=True)"
   ]
  },
  {
   "cell_type": "code",
   "execution_count": null,
   "metadata": {},
   "outputs": [],
   "source": []
  }
 ],
 "metadata": {
  "kernelspec": {
   "display_name": "Python 3",
   "language": "python",
   "name": "python3"
  },
  "language_info": {
   "codemirror_mode": {
    "name": "ipython",
    "version": 3
   },
   "file_extension": ".py",
   "mimetype": "text/x-python",
   "name": "python",
   "nbconvert_exporter": "python",
   "pygments_lexer": "ipython3",
   "version": "3.6.5"
  }
 },
 "nbformat": 4,
 "nbformat_minor": 2
}
